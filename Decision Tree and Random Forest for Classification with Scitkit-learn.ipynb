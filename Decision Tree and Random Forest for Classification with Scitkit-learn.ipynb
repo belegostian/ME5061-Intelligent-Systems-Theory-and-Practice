{
 "cells": [
  {
   "cell_type": "code",
   "execution_count": null,
   "id": "3949b73b",
   "metadata": {},
   "outputs": [],
   "source": [
    "import numpy as np\n",
    "import matplotlib.pyplot as plt\n",
    "import seaborn as sns\n",
    "# helping show visualization on the Jupyter notebook\n",
    "%matplotlib inline\n",
    "sns.set()"
   ]
  },
  {
   "cell_type": "code",
   "execution_count": null,
   "id": "0fb44e1f",
   "metadata": {},
   "outputs": [],
   "source": [
    "df = sns.load_dataset('penguins')"
   ]
  },
  {
   "cell_type": "code",
   "execution_count": null,
   "id": "ddb9d957",
   "metadata": {},
   "outputs": [],
   "source": [
    "# print first 10 observation in the data\n",
    "df.head(10)"
   ]
  },
  {
   "cell_type": "code",
   "execution_count": null,
   "id": "1dd58daf",
   "metadata": {},
   "outputs": [],
   "source": [
    "# print some overall information of the data\n",
    "df.info()"
   ]
  },
  {
   "cell_type": "code",
   "execution_count": null,
   "id": "126f1e3d",
   "metadata": {},
   "outputs": [],
   "source": [
    "# show the number the missing values in each columns\n",
    "df.isnull().sum()"
   ]
  },
  {
   "cell_type": "code",
   "execution_count": null,
   "id": "63c8f261",
   "metadata": {},
   "outputs": [],
   "source": [
    "# deleting rows - missing values\n",
    "df_dropped = df.dropna()"
   ]
  },
  {
   "cell_type": "code",
   "execution_count": null,
   "id": "e260b2e0",
   "metadata": {},
   "outputs": [],
   "source": [
    "# show number the missing values in each columns\n",
    "df_dropped.isnull().sum()"
   ]
  },
  {
   "cell_type": "code",
   "execution_count": null,
   "id": "cb7cd8d7",
   "metadata": {},
   "outputs": [],
   "source": [
    "from sklearn.impute import SimpleImputer"
   ]
  },
  {
   "cell_type": "code",
   "execution_count": null,
   "id": "61b18ce0",
   "metadata": {},
   "outputs": [],
   "source": [
    "# create a SimpleImputer class\n",
    "# the strategy to impute can be 'mean', median', 'most_frequent' and 'constant'\n",
    "imputer_mean = SimpleImputer(missing_values=np.NaN, strategy='mean')\n",
    "\n",
    "# fit the numerical columns to the imputer\n",
    "columns = ['bill_depth_mm', 'bill_length_mm', 'flipper_length_mm', 'body_mass_g']\n",
    "imputer_mean = imputer_mean.fit(df[columns])\n",
    "\n",
    "# transform the DataFrame column with the fitted data\n",
    "df[columns] = imputer_mean.transform(df[columns])"
   ]
  },
  {
   "cell_type": "code",
   "execution_count": null,
   "id": "5c25fee0",
   "metadata": {},
   "outputs": [],
   "source": [
    "# show number the missing values in each columns\n",
    "df.isnull().sum()"
   ]
  },
  {
   "cell_type": "code",
   "execution_count": null,
   "id": "a3d57f1a",
   "metadata": {},
   "outputs": [],
   "source": [
    "# show value in the 'sex' column\n",
    "df['sex'].head(10)"
   ]
  },
  {
   "cell_type": "code",
   "execution_count": null,
   "id": "71409854",
   "metadata": {},
   "outputs": [],
   "source": [
    "def impute_nan_by_most_frequent(df, col_name):\n",
    "    # get the most frequent value using `mode()` function\n",
    "    most_frequent_value = df[col_name].mode()[0]\n",
    "    # replace NaN values with the most frequent value\n",
    "    return df[col_name].fillna(most_frequent_value)"
   ]
  },
  {
   "cell_type": "code",
   "execution_count": null,
   "id": "7761575f",
   "metadata": {},
   "outputs": [],
   "source": [
    "# get all categorical columns\n",
    "columns = ['sex']\n",
    "\n",
    "# replace NaN categorical values by the most frequent value in each column\n",
    "for col_name in columns:\n",
    "    df[col_name] = impute_nan_by_most_frequent(df, col_name)\n"
   ]
  },
  {
   "cell_type": "code",
   "execution_count": null,
   "id": "e602041a",
   "metadata": {},
   "outputs": [],
   "source": [
    "# show the results\n",
    "df[col_name].head(10)"
   ]
  },
  {
   "cell_type": "code",
   "execution_count": null,
   "id": "3a62d04d",
   "metadata": {},
   "outputs": [],
   "source": [
    "# show number the missing values in each columns\n",
    "df.isnull().sum()"
   ]
  },
  {
   "cell_type": "code",
   "execution_count": null,
   "id": "1053bd38",
   "metadata": {},
   "outputs": [],
   "source": [
    "# Mapping the sex variable to binary values\n",
    "df['sex_int'] = df['sex'].map({'Male': 0, 'Female': 1})"
   ]
  },
  {
   "cell_type": "code",
   "execution_count": null,
   "id": "0206e40c",
   "metadata": {},
   "outputs": [],
   "source": [
    "df[['sex', 'sex_int']].head(10)"
   ]
  },
  {
   "cell_type": "code",
   "execution_count": null,
   "id": "d79ca166",
   "metadata": {},
   "outputs": [],
   "source": []
  }
 ],
 "metadata": {
  "kernelspec": {
   "display_name": "Python 3 (ipykernel)",
   "language": "python",
   "name": "python3"
  },
  "language_info": {
   "codemirror_mode": {
    "name": "ipython",
    "version": 3
   },
   "file_extension": ".py",
   "mimetype": "text/x-python",
   "name": "python",
   "nbconvert_exporter": "python",
   "pygments_lexer": "ipython3",
   "version": "3.8.13"
  }
 },
 "nbformat": 4,
 "nbformat_minor": 5
}
