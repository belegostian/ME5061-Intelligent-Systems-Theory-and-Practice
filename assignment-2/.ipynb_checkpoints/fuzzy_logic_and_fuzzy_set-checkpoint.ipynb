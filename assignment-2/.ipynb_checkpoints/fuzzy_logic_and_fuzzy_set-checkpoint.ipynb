{
 "cells": [
  {
   "cell_type": "markdown",
   "metadata": {
    "collapsed": true,
    "pycharm": {
     "name": "#%% md\n"
    }
   },
   "source": [
    "# Fuzzy Logic and Fuzzy Set"
   ]
  },
  {
   "cell_type": "markdown",
   "metadata": {
    "pycharm": {
     "name": "#%% md\n"
    }
   },
   "source": [
    "This exercise introduce the basic ideas of fuzzy sets."
   ]
  },
  {
   "cell_type": "markdown",
   "metadata": {},
   "source": [
    "## A. Crisp Sets and Logic"
   ]
  },
  {
   "cell_type": "markdown",
   "metadata": {},
   "source": [
    "Classical logic is based on the crisp set, where a group of distinct objects are considered as a collection. For example, a collection or a crisp set of color white and red can be defined as:\n",
    "\n",
    "$$\\text{F}=\\{\\text{red}, \\text{white}\\} \\;\\;\\;\\; \\text{(1)}$$\n",
    "\n",
    "A crisp subset can be defined from a more extensive set where the elements of the set belong to the subset according to some condition. For example, set A can be defined as the set of numbers that are greater or equal to 4 and smaller or equal to 12:\n",
    "\n",
    "$$\\text{A}=\\{i | i \\text{ is an integer and } 4 \\leq i \\leq 12\\} \\;\\;\\;\\; \\text{(2)}$$\n",
    "\n",
    "The graphical representation of the subset above can be possible if an indicator function of this set can be introduced. In the case (2), the indicator function can be defined as the following:\n",
    "\n",
    "$$\n",
    "\\mathbb{1}_{A}(x)=\n",
    "\\begin{cases}\n",
    "1 \\;\\;\\;\\;  \\text{if } 4 \\leq x \\leq 12 \\\\\n",
    "0, \\;\\;\\;\\; \\text{otherwise}\n",
    "\\end{cases}\n",
    "\\;\\;\\;\\; \\text{(3)}\n",
    "$$\n",
    "\n",
    "The indicator function is also called membership function that determine which elements belong to the set."
   ]
  },
  {
   "cell_type": "markdown",
   "metadata": {},
   "source": [
    "Demo code"
   ]
  },
  {
   "cell_type": "code",
   "execution_count": 1,
   "metadata": {
    "pycharm": {
     "name": "#%%\n"
    }
   },
   "outputs": [],
   "source": [
    "# Import necessary packages\n",
    "import matplotlib.pyplot as plt\n",
    "import numpy as np"
   ]
  },
  {
   "cell_type": "code",
   "execution_count": 2,
   "metadata": {
    "pycharm": {
     "name": "#%%\n"
    }
   },
   "outputs": [
    {
     "data": {
      "text/plain": [
       "array([ 0,  1,  2,  3,  4,  5,  6,  7,  8,  9, 10, 11, 12, 13, 14, 15, 16,\n",
       "       17, 18, 19, 20])"
      ]
     },
     "execution_count": 2,
     "metadata": {},
     "output_type": "execute_result"
    }
   ],
   "source": [
    "# Create an array of integers in range [0, 20]\n",
    "X = np.arange(0, 21)\n",
    "X"
   ]
  },
  {
   "cell_type": "code",
   "execution_count": 3,
   "metadata": {
    "pycharm": {
     "name": "#%%\n"
    }
   },
   "outputs": [
    {
     "data": {
      "text/plain": [
       "array([0, 0, 0, 0, 1, 1, 1, 1, 1, 1, 1, 1, 1, 0, 0, 0, 0, 0, 0, 0, 0])"
      ]
     },
     "execution_count": 3,
     "metadata": {},
     "output_type": "execute_result"
    }
   ],
   "source": [
    "# Define the indicator function of Eq. (2) with values of X\n",
    "indA = np.array([1 if (4 <= x <= 12) else 0 for x in X])\n",
    "indA"
   ]
  },
  {
   "cell_type": "markdown",
   "metadata": {},
   "source": [
    "The plot of Indicator function of A"
   ]
  },
  {
   "cell_type": "code",
   "execution_count": 4,
   "metadata": {
    "pycharm": {
     "name": "#%%\n"
    }
   },
   "outputs": [
    {
     "data": {
      "image/png": "[encoded data removed]",
      "text/plain": [
       "<Figure size 432x288 with 1 Axes>"
      ]
     },
     "metadata": {
      "needs_background": "light"
     },
     "output_type": "display_data"
    }
   ],
   "source": [
    "# Plot the indicator function of Eq. (3) with values of X\n",
    "plt.scatter(X, indA)\n",
    "plt.xticks(X)\n",
    "plt.show()"
   ]
  },
  {
   "cell_type": "markdown",
   "metadata": {},
   "source": [
    "Similar, define the indicator function of set: $B=\\{i|i \\text{ is integer and } 10 \\leq i \\leq 15 \\}$:\n",
    "\n",
    "$$\n",
    "\\mathbb{1}_{B}(x)=\n",
    "\\begin{cases}\n",
    "1 \\;\\;\\;\\;  \\text{if } 10 \\leq x \\leq 15 \\\\\n",
    "0, \\;\\;\\;\\; \\text{otherwise}\n",
    "\\end{cases}\n",
    "\\;\\;\\;\\; \\text{(4)}\n",
    "$$"
   ]
  },
  {
   "cell_type": "code",
   "execution_count": 5,
   "metadata": {
    "pycharm": {
     "name": "#%%\n"
    }
   },
   "outputs": [],
   "source": [
    "# TODO:\n",
    "# Define the indicator function as Eq. (4) with values of X\n",
    "indB = None\n",
    "# Start your code in the below of this line\n"
   ]
  },
  {
   "cell_type": "code",
   "execution_count": 6,
   "metadata": {
    "pycharm": {
     "name": "#%%\n"
    }
   },
   "outputs": [],
   "source": [
    "# TODO:\n",
    "# Plot the indicator function of Eq. (3) with values of X\n",
    "# Start your code in the below of this line\n"
   ]
  },
  {
   "cell_type": "markdown",
   "metadata": {},
   "source": [
    "The operators of crisp sets include:\n",
    "\n",
    "1. The **Intersection** ($\\cap$) of two sets is the set that containing all elements that are common to both sets.\n",
    "2. The **Union** ($\\cup$) of two sets is the set that containing all elements that are in either of the sets.\n",
    "3. The **completion** ($\\neg$) of a set A is the set containing all elements that not in A.\n",
    "\n",
    "Using the example of set A and B, the indicator functions of **Indication**, **Union** and **Negation**. Your task is to define the indicator functions of $A \\cap B$, $A \\cup B$ and $\\neg A$ and then write the code to plot the indicator result with value of X."
   ]
  },
  {
   "cell_type": "code",
   "execution_count": 7,
   "metadata": {
    "pycharm": {
     "name": "#%%\n"
    }
   },
   "outputs": [],
   "source": [
    "# TODO:\n",
    "# Write the indicator function of intersection, union, negation operators of set A and B with values of X,\n",
    "# then plot them\n",
    "#\n",
    "# Indicator function of intersection of A and B\n",
    "ind_A_intersect_B = None\n",
    "# Start the code here\n"
   ]
  },
  {
   "cell_type": "code",
   "execution_count": 8,
   "metadata": {
    "pycharm": {
     "name": "#%%\n"
    }
   },
   "outputs": [],
   "source": [
    "# TODO: Plot the indicator function of intersection of A and B with values of X\n",
    "# Start the code here\n"
   ]
  },
  {
   "cell_type": "code",
   "execution_count": 9,
   "metadata": {
    "pycharm": {
     "name": "#%%\n"
    }
   },
   "outputs": [],
   "source": [
    "# TODO: Indicator function of union of A and B\n",
    "ind_A_union_B = None\n",
    "# Start the code here\n"
   ]
  },
  {
   "cell_type": "code",
   "execution_count": 10,
   "metadata": {
    "pycharm": {
     "name": "#%%\n"
    }
   },
   "outputs": [],
   "source": [
    "# TODO: Plot the indicator function of union of A and B with values of X\n",
    "# Start the code here\n"
   ]
  },
  {
   "cell_type": "code",
   "execution_count": 11,
   "metadata": {
    "pycharm": {
     "name": "#%%\n"
    }
   },
   "outputs": [],
   "source": [
    "# TODO: Indicator function of negation of A\n",
    "ind_not_A = None\n",
    "# Start the code here\n"
   ]
  },
  {
   "cell_type": "code",
   "execution_count": 12,
   "metadata": {
    "pycharm": {
     "name": "#%%\n"
    }
   },
   "outputs": [],
   "source": [
    "# TODO: Plot the indicator function of negation of A with values of X\n",
    "# Start the code here\n"
   ]
  },
  {
   "cell_type": "markdown",
   "metadata": {},
   "source": [
    "## B. Fuzzy Sets"
   ]
  },
  {
   "cell_type": "markdown",
   "metadata": {},
   "source": [
    "Unlike crisp sets, a fuzzy set allows partial belonging to a set, that is defined by a **degree of membership**, denoted by $\\mu$, that can take any value from 0 (element does not belong at all in the set) to 1 (element belongs fully to the set).\n",
    "\n",
    "The **membership function** of the set is the relationship between the elements of the set and their degree-of-belonging. An illustration of how membership functions can be applied to temperature is shown below:\n",
    "\n",
    "![](figures/membership_funcs.jpeg)\n",
    "\n",
    "In the example above, the fuzzy sets describe temperatures of an engine ranging from very cold to very hot. The value, µ, is the amount of membership in the set. One can notice, for example, that at a temperature of 80 degrees, the engine can be described as being hot to a factor of 0.8, and very hot to a factor of 0.2."
   ]
  },
  {
   "cell_type": "markdown",
   "metadata": {},
   "source": [
    "The union, intersection, and negation operators of fuzzy sets is expressed in different ways:\n",
    "1. The most common method to compute the **Union** of two fuzzy sets is **maximum** operator on the sets. Another method is the **product** operator on the sets.\n",
    "2. The most common method to compute the **Intersection** of two fuzzy sets is minimum operator on the sets\n",
    "3. The **complement (negation)** of a fuzzy set is calculated by **subtracting** the set memebership function from 1."
   ]
  },
  {
   "cell_type": "markdown",
   "metadata": {},
   "source": [
    "## C. Implementation Exercise"
   ]
  },
  {
   "cell_type": "markdown",
   "metadata": {},
   "source": [
    "This exercise will guide you to implement the fuzzy set in Python. The fuzzy set is constructed to Python class, named **FuzzySet**.\n",
    "\n",
    "A FuzzySet require the following parameters so that it can be initialized:\n",
    "* *name*&emsp;&emsp;&emsp;&emsp;&nbsp;&nbsp;the name of set\n",
    "* *domain_min*&emsp;&ensp;the minimum value of the set\n",
    "* *domain_max*&emsp;&nbsp;the maximum value of the set\n",
    "* *res*&emsp;&emsp;&emsp;&emsp;&emsp;&ensp;the number of steps between the minimum and maximum value\n",
    "\n",
    "Therefore, the FuzzySet is represented by using two numpy arrays; one that hold the domain value and one that will hold the degree-of-membership (dom) values (initialized zeros).\n",
    "\n",
    "The implementation of the FuzzySet is put in `fuzzy_system/fuzzy_set.py`. Please **complete** the method that having **TODO** in **FuzzySet** class."
   ]
  },
  {
   "cell_type": "markdown",
   "metadata": {},
   "source": [
    "To use FuzzySet, you need to implement operator methods of FuzzySet class. Denote fuzzy set is A, and the membership function is $\\mu_{A}$\n",
    "\n",
    "**`complement`** method: It is calculated by subtract the degree of membership value from 1.\n",
    "\n",
    "$$\\mu_{\\bar{A}}(x)=1-\\mu_{A}(x), \\forall x \\in X \\;\\;\\;\\; \\text{(5)}$$\n",
    "\n",
    "**`intersection`** method: Denote another fuzzy set is A, and the membership function of B is $\\mu_{B}$. It is calculated by minimum of the degree of membership value of A and B.\n",
    "\n",
    "$$\\mu_{A \\cap B}=\\min{(\\mu_{A}, \\mu_{B})}, \\forall x \\in X \\;\\;\\;\\; \\text{(6)}$$\n",
    "\n",
    "**`union`** method: It is calculated by maximum of the degree of membership value of A and B.\n",
    "\n",
    "$$\\mu_{A \\cup B}=\\max{(\\mu_{A}, \\mu_{B})}, \\forall x \\in X \\;\\;\\;\\; \\text{(7)}$$\n",
    "\n",
    "![](figures/Fuzzy-sets-operations-adapted-from-Negnevitsky-2002-Chap-4.png)\n",
    "\n"
   ]
  },
  {
   "cell_type": "markdown",
   "metadata": {},
   "source": [
    "`trapezoidal` method: membership function defined by a lower limit $a$, an upper limit $d$, a lower support limit $b$, and an upper support limit $c$, where $a < b < c < d$.\n",
    "\n",
    "$$\n",
    "\\mu_{A}(x)=\n",
    "\\begin{cases}\n",
    "0, \\;\\;\\;\\;\\;\\;\\;\\;\\;\\;\\;\\; (x < a ) \\text{ or } (x > d) \\\\\n",
    "\\frac{x - a}{b - a}, \\;\\;\\;\\; a \\leq x \\leq b \\\\\n",
    "1, \\;\\;\\;\\;\\;\\;\\;\\;\\;\\;\\;\\; b \\leq x \\leq c \\\\\n",
    "\\frac{d - x}{d - c}, \\;\\;\\;\\; c \\leq x \\leq d \\\\\n",
    "\\end{cases}\n",
    "\\;\\;\\;\\; \\text{(8)}\n",
    "$$\n",
    "\n",
    "![](figures/funtrap.jpg)\n",
    "\n",
    "`trianglular` method: membership function defined by a lower limit $a$, an upper limit $b$, and a value $m$, where $a < m < b$.\n",
    "\n",
    "$$\n",
    "\\mu_{A}(x)=\n",
    "\\begin{cases}\n",
    "0, \\;\\;\\;\\;\\;\\;\\;\\;\\;\\;\\;\\; x \\leq a \\\\\n",
    "\\frac{x - a}{m - a}, \\;\\;\\;\\; a < x \\leq m \\\\\n",
    "\\frac{b - x}{b - m}, \\;\\;\\;\\; m < x < b \\\\\n",
    "0, \\;\\;\\;\\;\\;\\;\\;\\;\\;\\;\\;\\; x \\geq b \\\\\n",
    "\\end{cases}\n",
    "\\;\\;\\;\\; \\text{(9)}\n",
    "$$\n",
    "\n",
    "![](figures/funtri.jpg)\n",
    "\n",
    "`defuzzify_cog` method: The method that transfer fuzzy set to crisp set using center-of-gravity technique.\n",
    "\n",
    "$$x^{'}=\\frac{\\sum_{i}[{\\mu_{A}(x_{i})x_{i}}]}{\\sum_{i}\\mu_{A}(x_{i})}\\;\\;\\;\\; \\text{(10)}$$"
   ]
  },
  {
   "cell_type": "markdown",
   "metadata": {},
   "source": [
    "After finishing the **required implementation**, try the demo code in below section. The result should be similar as following:\n",
    "\n",
    "![](figures/s.png)\n",
    "\n",
    "![](figures/t.png)\n",
    "\n",
    "![](figures/s_t.png)"
   ]
  },
  {
   "cell_type": "code",
   "execution_count": 13,
   "metadata": {
    "pycharm": {
     "name": "#%%\n"
    }
   },
   "outputs": [],
   "source": [
    "from fuzzy_system import FuzzySet"
   ]
  },
  {
   "cell_type": "code",
   "execution_count": 14,
   "metadata": {
    "pycharm": {
     "name": "#%%\n"
    }
   },
   "outputs": [
    {
     "ename": "ValueError",
     "evalue": "x, y, and format string must not be None",
     "output_type": "error",
     "traceback": [
      "\u001b[0;31m---------------------------------------------------------------------------\u001b[0m",
      "\u001b[0;31mValueError\u001b[0m                                Traceback (most recent call last)",
      "Input \u001b[0;32mIn [14]\u001b[0m, in \u001b[0;36m<cell line: 5>\u001b[0;34m()\u001b[0m\n\u001b[1;32m      2\u001b[0m s \u001b[38;5;241m=\u001b[39m FuzzySet\u001b[38;5;241m.\u001b[39mcreate_trapezoidal(name\u001b[38;5;241m=\u001b[39m\u001b[38;5;124m'\u001b[39m\u001b[38;5;124mS\u001b[39m\u001b[38;5;124m'\u001b[39m, domain_min\u001b[38;5;241m=\u001b[39m\u001b[38;5;241m1\u001b[39m, domain_max\u001b[38;5;241m=\u001b[39m\u001b[38;5;241m100\u001b[39m, res\u001b[38;5;241m=\u001b[39m\u001b[38;5;241m100\u001b[39m, a\u001b[38;5;241m=\u001b[39m\u001b[38;5;241m20\u001b[39m, b\u001b[38;5;241m=\u001b[39m\u001b[38;5;241m30\u001b[39m, c\u001b[38;5;241m=\u001b[39m\u001b[38;5;241m50\u001b[39m, d\u001b[38;5;241m=\u001b[39m\u001b[38;5;241m80\u001b[39m)\n\u001b[1;32m      4\u001b[0m fig, axs \u001b[38;5;241m=\u001b[39m plt\u001b[38;5;241m.\u001b[39msubplots(\u001b[38;5;241m1\u001b[39m, \u001b[38;5;241m1\u001b[39m)\n\u001b[0;32m----> 5\u001b[0m \u001b[43ms\u001b[49m\u001b[38;5;241;43m.\u001b[39;49m\u001b[43mplot_set\u001b[49m\u001b[43m(\u001b[49m\u001b[43maxs\u001b[49m\u001b[43m)\u001b[49m\n\u001b[1;32m      6\u001b[0m plt\u001b[38;5;241m.\u001b[39mshow()\n",
      "File \u001b[0;32m~/PycharmProjects/test3/assignment-2/fuzzy_system/fuzzy_set.py:226\u001b[0m, in \u001b[0;36mFuzzySet.plot_set\u001b[0;34m(self, ax, col)\u001b[0m\n\u001b[1;32m    222\u001b[0m \u001b[38;5;28;01mdef\u001b[39;00m \u001b[38;5;21mplot_set\u001b[39m(\u001b[38;5;28mself\u001b[39m, ax: Any, col: \u001b[38;5;28mstr\u001b[39m \u001b[38;5;241m=\u001b[39m \u001b[38;5;124m'\u001b[39m\u001b[38;5;124m'\u001b[39m) \u001b[38;5;241m-\u001b[39m\u001b[38;5;241m>\u001b[39m \u001b[38;5;28;01mNone\u001b[39;00m:\n\u001b[1;32m    223\u001b[0m     \u001b[38;5;124;03m\"\"\"\u001b[39;00m\n\u001b[1;32m    224\u001b[0m \u001b[38;5;124;03m    Visualize the fuzzy set\u001b[39;00m\n\u001b[1;32m    225\u001b[0m \u001b[38;5;124;03m    \"\"\"\u001b[39;00m\n\u001b[0;32m--> 226\u001b[0m     \u001b[43max\u001b[49m\u001b[38;5;241;43m.\u001b[39;49m\u001b[43mplot\u001b[49m\u001b[43m(\u001b[49m\u001b[38;5;28;43mself\u001b[39;49m\u001b[38;5;241;43m.\u001b[39;49m\u001b[43mdomain\u001b[49m\u001b[43m,\u001b[49m\u001b[43m \u001b[49m\u001b[38;5;28;43mself\u001b[39;49m\u001b[38;5;241;43m.\u001b[39;49m\u001b[43mdom\u001b[49m\u001b[43m,\u001b[49m\u001b[43m \u001b[49m\u001b[43mcol\u001b[49m\u001b[43m)\u001b[49m\n\u001b[1;32m    227\u001b[0m     ax\u001b[38;5;241m.\u001b[39mset_ylim([\u001b[38;5;241m-\u001b[39m\u001b[38;5;241m0.1\u001b[39m, \u001b[38;5;241m1.1\u001b[39m])\n\u001b[1;32m    228\u001b[0m     ax\u001b[38;5;241m.\u001b[39mset_title(\u001b[38;5;28mself\u001b[39m\u001b[38;5;241m.\u001b[39mname)\n",
      "File \u001b[0;32m~/opt/anaconda3/envs/test3/lib/python3.8/site-packages/matplotlib/axes/_axes.py:1632\u001b[0m, in \u001b[0;36mAxes.plot\u001b[0;34m(self, scalex, scaley, data, *args, **kwargs)\u001b[0m\n\u001b[1;32m   1390\u001b[0m \u001b[38;5;124;03m\"\"\"\u001b[39;00m\n\u001b[1;32m   1391\u001b[0m \u001b[38;5;124;03mPlot y versus x as lines and/or markers.\u001b[39;00m\n\u001b[1;32m   1392\u001b[0m \n\u001b[0;32m   (...)\u001b[0m\n\u001b[1;32m   1629\u001b[0m \u001b[38;5;124;03m(``'green'``) or hex strings (``'#008000'``).\u001b[39;00m\n\u001b[1;32m   1630\u001b[0m \u001b[38;5;124;03m\"\"\"\u001b[39;00m\n\u001b[1;32m   1631\u001b[0m kwargs \u001b[38;5;241m=\u001b[39m cbook\u001b[38;5;241m.\u001b[39mnormalize_kwargs(kwargs, mlines\u001b[38;5;241m.\u001b[39mLine2D)\n\u001b[0;32m-> 1632\u001b[0m lines \u001b[38;5;241m=\u001b[39m [\u001b[38;5;241m*\u001b[39m\u001b[38;5;28mself\u001b[39m\u001b[38;5;241m.\u001b[39m_get_lines(\u001b[38;5;241m*\u001b[39margs, data\u001b[38;5;241m=\u001b[39mdata, \u001b[38;5;241m*\u001b[39m\u001b[38;5;241m*\u001b[39mkwargs)]\n\u001b[1;32m   1633\u001b[0m \u001b[38;5;28;01mfor\u001b[39;00m line \u001b[38;5;129;01min\u001b[39;00m lines:\n\u001b[1;32m   1634\u001b[0m     \u001b[38;5;28mself\u001b[39m\u001b[38;5;241m.\u001b[39madd_line(line)\n",
      "File \u001b[0;32m~/opt/anaconda3/envs/test3/lib/python3.8/site-packages/matplotlib/axes/_base.py:312\u001b[0m, in \u001b[0;36m_process_plot_var_args.__call__\u001b[0;34m(self, data, *args, **kwargs)\u001b[0m\n\u001b[1;32m    310\u001b[0m     this \u001b[38;5;241m+\u001b[39m\u001b[38;5;241m=\u001b[39m args[\u001b[38;5;241m0\u001b[39m],\n\u001b[1;32m    311\u001b[0m     args \u001b[38;5;241m=\u001b[39m args[\u001b[38;5;241m1\u001b[39m:]\n\u001b[0;32m--> 312\u001b[0m \u001b[38;5;28;01myield from\u001b[39;00m \u001b[38;5;28;43mself\u001b[39;49m\u001b[38;5;241;43m.\u001b[39;49m\u001b[43m_plot_args\u001b[49m\u001b[43m(\u001b[49m\u001b[43mthis\u001b[49m\u001b[43m,\u001b[49m\u001b[43m \u001b[49m\u001b[43mkwargs\u001b[49m\u001b[43m)\u001b[49m\n",
      "File \u001b[0;32m~/opt/anaconda3/envs/test3/lib/python3.8/site-packages/matplotlib/axes/_base.py:459\u001b[0m, in \u001b[0;36m_process_plot_var_args._plot_args\u001b[0;34m(self, tup, kwargs, return_kwargs)\u001b[0m\n\u001b[1;32m    456\u001b[0m \u001b[38;5;66;03m# Don't allow any None value; these would be up-converted to one\u001b[39;00m\n\u001b[1;32m    457\u001b[0m \u001b[38;5;66;03m# element array of None which causes problems downstream.\u001b[39;00m\n\u001b[1;32m    458\u001b[0m \u001b[38;5;28;01mif\u001b[39;00m \u001b[38;5;28many\u001b[39m(v \u001b[38;5;129;01mis\u001b[39;00m \u001b[38;5;28;01mNone\u001b[39;00m \u001b[38;5;28;01mfor\u001b[39;00m v \u001b[38;5;129;01min\u001b[39;00m tup):\n\u001b[0;32m--> 459\u001b[0m     \u001b[38;5;28;01mraise\u001b[39;00m \u001b[38;5;167;01mValueError\u001b[39;00m(\u001b[38;5;124m\"\u001b[39m\u001b[38;5;124mx, y, and format string must not be None\u001b[39m\u001b[38;5;124m\"\u001b[39m)\n\u001b[1;32m    461\u001b[0m kw \u001b[38;5;241m=\u001b[39m {}\n\u001b[1;32m    462\u001b[0m \u001b[38;5;28;01mfor\u001b[39;00m prop_name, val \u001b[38;5;129;01min\u001b[39;00m \u001b[38;5;28mzip\u001b[39m((\u001b[38;5;124m'\u001b[39m\u001b[38;5;124mlinestyle\u001b[39m\u001b[38;5;124m'\u001b[39m, \u001b[38;5;124m'\u001b[39m\u001b[38;5;124mmarker\u001b[39m\u001b[38;5;124m'\u001b[39m, \u001b[38;5;124m'\u001b[39m\u001b[38;5;124mcolor\u001b[39m\u001b[38;5;124m'\u001b[39m),\n\u001b[1;32m    463\u001b[0m                           (linestyle, marker, color)):\n",
      "\u001b[0;31mValueError\u001b[0m: x, y, and format string must not be None"
     ]
    },
    {
     "data": {
      "image/png": "[encoded data removed]",
      "text/plain": [
       "<Figure size 432x288 with 1 Axes>"
      ]
     },
     "metadata": {
      "needs_background": "light"
     },
     "output_type": "display_data"
    }
   ],
   "source": [
    "# Define the fuzzy set with trapezoidal membership function\n",
    "s = FuzzySet.create_trapezoidal(name='S', domain_min=1, domain_max=100, res=100, a=20, b=30, c=50, d=80)\n",
    "\n",
    "fig, axs = plt.subplots(1, 1)\n",
    "s.plot_set(axs)\n",
    "plt.show()"
   ]
  },
  {
   "cell_type": "code",
   "execution_count": null,
   "metadata": {
    "pycharm": {
     "name": "#%%\n"
    }
   },
   "outputs": [],
   "source": [
    "t = FuzzySet.create_triangular('T', 1, 100, 100, 30, 50, 100)\n",
    "\n",
    "fig, axs = plt.subplots(1, 1)\n",
    "t.plot_set(axs)\n",
    "plt.show()"
   ]
  },
  {
   "cell_type": "code",
   "execution_count": null,
   "metadata": {
    "pycharm": {
     "name": "#%%\n"
    }
   },
   "outputs": [],
   "source": [
    "# Do some operation and plot the result fuzzy set\n",
    "fig, axs = plt.subplots(1, 1)\n",
    "s.union(t).complement().intersection(s).min_scalar(0.2).plot_set(axs)\n",
    "plt.show()"
   ]
  },
  {
   "cell_type": "code",
   "execution_count": null,
   "metadata": {},
   "outputs": [],
   "source": []
  }
 ],
 "metadata": {
  "kernelspec": {
   "display_name": "Python 3 (ipykernel)",
   "language": "python",
   "name": "python3"
  },
  "language_info": {
   "codemirror_mode": {
    "name": "ipython",
    "version": 3
   },
   "file_extension": ".py",
   "mimetype": "text/x-python",
   "name": "python",
   "nbconvert_exporter": "python",
   "pygments_lexer": "ipython3",
   "version": "3.8.13"
  }
 },
 "nbformat": 4,
 "nbformat_minor": 1
}
