{
 "cells": [
  {
   "cell_type": "markdown",
   "metadata": {},
   "source": [
    "# Fuzzy Inference Systems"
   ]
  },
  {
   "cell_type": "markdown",
   "metadata": {},
   "source": [
    "## A. Fuzzy inference systems"
   ]
  },
  {
   "cell_type": "markdown",
   "metadata": {},
   "source": [
    "A fuzzy system is a repository of fuzzy expert knowledge that can reason data in vague terms instead of precise Boolean logic. The basic configuration of a fuzzy system is shown as:\n",
    "\n",
    "![](figures/fuzzy_system.jpeg)\n",
    "\n",
    "A typical fuzzy system can be split into four main parts, namely **fuzzifier**, **knowledge base**, **inference engine** and **defuzzifier**.\n",
    "\n",
    "1. The **fuzzifier** maps a real crisp input to a fuzzy function, therefore determining the ‘degree of membership’ of the input to a vague concept. In a number of controllers, the values of the input variables are mapped to the range of values of the corresponding universe of discourse. The range and resolution of input-fuzzy sets and their effect on the fuzzification process are considered as factors affecting the overall performance of the controller.\n",
    "\n",
    "2. The **knowledge base** comprises the knowledge of the application domain and the attendant control goals. It can be split into a database of **definitions** used to express linguistic control rules in the controller, and a **rule base** that describes the knowledge held by the experts of the domain. Intuitively, the knowledge base is the core element of a fuzzy controller as it will contain all the information necessary to accomplish its execution tasks. Various researchers have applied techniques to fine-tune a fuzzy controller’s knowledge base, such as Genetic Algorithms, or neural networks\n",
    "\n",
    "3. The **Inference Engine** provides the decision-making logic of the controller. It deduces the fuzzy control actions by employing fuzzy implications and fuzzy rules of inference. In many aspects, it can be viewed as an emulation of human decision-making.\n",
    "\n",
    "4. The **Defuzzification** process converts fuzzy control values into crisp quantities, that is, it links a single point to a fuzzy set, given that the point belongs to the support of the fuzzy set."
   ]
  },
  {
   "cell_type": "markdown",
   "metadata": {},
   "source": [
    "The expert knowledge is a collection of fuzzy membership functions and a set of fuzzy rules, known as the rule-base, having the form:\n",
    "\n",
    "> **IF** `{antecedent clauses}` **THEN** `{consequent clauses}`\n",
    "\n",
    "Thus, a rule will contain several clauses of antecedent type and some clauses of consequent type. Clauses will be of the form:\n",
    "\n",
    "> `{variable name}` **is** `{set name}`\n",
    "\n",
    "For example, we have two clauses, `Tempurature is Low` and `Speed is Slow`. A rule can be constructed based given clauses as below:\n",
    "\n",
    "> **IF** `Tempurature is Low` **THEN** `Speed is Slow`"
   ]
  },
  {
   "cell_type": "markdown",
   "metadata": {},
   "source": [
    "### 1. Mamdani Inference Fuzzy Systems"
   ]
  },
  {
   "cell_type": "markdown",
   "metadata": {},
   "source": [
    "In **Mamdani's inferencing**, the antecedents and consequents of a fuzzy rule are fuzzy sets. The inference is based on **Generalised Modus Ponens**, which states that the degree of truth of the consequent of a fuzzy rule is the degree of truth of the antecedent.\n",
    "\n",
    "In the case where more than one antecedent clause is present, the individual degrees of membership are joined using a min t-norm operator. If the fuzzy system contains several rules, their output is combined using a max s-norm operator. **Defuzzification** is necessary so that the consequent action can be expressed in terms of a crisp value.\n",
    "\n",
    "The graphical representation of this process is shown below:\n",
    "\n",
    "![](figures/fuzzy_process.jpeg)"
   ]
  },
  {
   "cell_type": "markdown",
   "metadata": {},
   "source": [
    "### 2. Takagi-Sugeno inference system"
   ]
  },
  {
   "cell_type": "markdown",
   "metadata": {},
   "source": [
    "In **Takagi-Sugeno inferencing**, the consequents are functions that map crisp input values to the rule’s crisp output. Hence, fuzzy rules are of the form:\n",
    "\n",
    "> **IF** `x IS X` **and** `y IS Y` **THEN** `z=f(x,y)`\n",
    "\n",
    "where f is generally a linear function in X and Y.\n",
    "\n",
    "In contrast to Mamdani's fuzzy systems, the rules are not combined using a max -operator but are combined by finding a weighted average, where the weight of a given rule is the degree of membership of its antecedent. Therefore, Takagi-Sugeno systems do not require any defuzzification."
   ]
  },
  {
   "cell_type": "markdown",
   "metadata": {},
   "source": [
    "## B. Mamdani Fuzzy System Implementation"
   ]
  },
  {
   "cell_type": "markdown",
   "metadata": {},
   "source": [
    "The design of Fuzzy Inference Systems is based on several considerations:\n",
    "* A Fuzzy Inference System will require **input** and **output** variables and a collection of **fuzzy rules**.\n",
    "* Both input and output variables will contain a collection of fuzzy sets if the Fuzzy Inference System is of **Mamdani type**.\n",
    "* Input and output variables are very similar, but they are used differently by fuzzy rules. During execution, input variables use the input values to the system to fuzzify their sets, that is they determine the degree of belonging of that input value to all the fuzzy sets of the variable. Each rule contributes to some extent to the output variables; the totality of this contribution will determine the output of the system."
   ]
  },
  {
   "cell_type": "markdown",
   "metadata": {},
   "source": [
    "The Fuzzy System architecture is design into `FuzzySystem` class, which is formed from subclass components:\n",
    "1. `FuzzySet` class: define a set of elements have degrees of membership.\n",
    "2. `FuzzyVariable` class: define the language that will be used to discuss a fuzzy concept, e.g. temperature, pressure, etc. variables can be of **input** and **output** in type.\n",
    "    2.a. `FuzzyVariableInput` class: having `fuzzify` method to fuzzify the variable\n",
    "    2.b. `FuzzyVariableOutput` class.\n",
    "3. `FuzzyClause` class: define the clauses for fuzzy rules from fuzzy variable and fuzzy set.\n",
    "4. `FuzzyRule` class: define the fuzzy rules."
   ]
  },
  {
   "cell_type": "markdown",
   "metadata": {},
   "source": [
    "![](figures/art2_fig1.png)"
   ]
  },
  {
   "cell_type": "markdown",
   "metadata": {},
   "source": [
    "## C. Implementation Exercise"
   ]
  },
  {
   "cell_type": "markdown",
   "metadata": {},
   "source": [
    "The exercise requires you to complete the methods that having **TODO** requirement in **`FuzzySystem`**, **`FuzzyRule`**, **`FuzzyVariable`** classes in the corresponding `*.py` files in `fuzzy_system` folder.\n",
    "\n",
    "In **`FuzzyRule`** class, try to implement `add_antecedent_clause` and `add_consequent_clause` methods that create the antecedent and consequent clause, respectively, and then add to corresponding lists in  **`FuzzyRule`** class.\n",
    "\n",
    "In **`FuzzyVariable`** class, try to implement `add_triangular` and `add_trapezoidal` methods that create the triangular and trapezoidal FuzzySet, respectively, and then add to corresponding sets in **`FuzzyVariable`** class.\n",
    "\n",
    " In **`FuzzySystem`** class, try to implement `add_input_variable` and `add_output_variable` methods to add FuzzyVariableInput and FuzzyVariableOutput, respectively; implement `get_input_variable`  and `get_output_variable` methods to get FuzzyVariableInput and FuzzyVariableOutput, respectively, given by name; implement `add_rule` to the system given by variable name and fuzzy set name"
   ]
  },
  {
   "cell_type": "markdown",
   "metadata": {},
   "source": [
    "After completing the implementation requirement, try the implement the example below"
   ]
  },
  {
   "cell_type": "code",
   "execution_count": 1,
   "metadata": {
    "pycharm": {
     "name": "#%%\n"
    }
   },
   "outputs": [],
   "source": [
    "from fuzzy_system import FuzzyVariableInput, FuzzyVariableOutput, FuzzySystem"
   ]
  },
  {
   "cell_type": "markdown",
   "metadata": {},
   "source": [
    "This example is constructed to control speed of fan according to the environment's temperature and humidity.\n",
    "\n",
    "![](figures/fuzzy_fan_control.jpeg)"
   ]
  },
  {
   "cell_type": "markdown",
   "metadata": {},
   "source": [
    "The first step in the design of our system is to define fuzzy sets to describe the input and output variables. There are three fuzzy sets:\n",
    "\n",
    "> Temperature: Cold, Medium, Hot\n",
    ">\n",
    "> Humidity: Dry, Normal, Wet\n",
    ">\n",
    "> Fan speed: Slow, Moderate, Fast\n",
    "\n",
    "The diagram below shows a graphical representation of the input and output variables of our system and their respective sets.\n",
    "\n",
    "![](figures/fuzzy_fan_sets.jpeg)"
   ]
  },
  {
   "cell_type": "markdown",
   "metadata": {},
   "source": [
    "The first step in the design of our system is to define fuzzy sets to describe the input and output variables."
   ]
  },
  {
   "cell_type": "code",
   "execution_count": 2,
   "metadata": {
    "pycharm": {
     "name": "#%%\n"
    }
   },
   "outputs": [],
   "source": [
    "# Define the temperature variable with its fuzzy set\n",
    "temp = FuzzyVariableInput('Temperature', 10, 40, 100)\n",
    "temp.add_triangular('Cold', 10, 10, 25)\n",
    "temp.add_triangular('Medium', 15, 25, 35)\n",
    "temp.add_triangular('Hot', 25, 40, 40)"
   ]
  },
  {
   "cell_type": "code",
   "execution_count": 3,
   "metadata": {
    "pycharm": {
     "name": "#%%\n"
    }
   },
   "outputs": [],
   "source": [
    "# TODO: Based on the above graphical representation, please define the Humidity variable and its fuzzy set as the `FuzzyVariableInput`\n",
    "humidity = None\n",
    "# Write the code below\n"
   ]
  },
  {
   "cell_type": "code",
   "execution_count": 4,
   "metadata": {
    "pycharm": {
     "name": "#%%\n"
    }
   },
   "outputs": [],
   "source": [
    "# TODO: Based on the above graphical representation, please define the Speed variable and its fuzzy set as the `FuzzyVariableOutput`\n",
    "motor_speed = None\n",
    "# Write the code below\n"
   ]
  },
  {
   "cell_type": "markdown",
   "metadata": {},
   "source": [
    "Then we construct a fuzzy system, and add defined variables to it."
   ]
  },
  {
   "cell_type": "code",
   "execution_count": 5,
   "metadata": {
    "pycharm": {
     "name": "#%%\n"
    }
   },
   "outputs": [],
   "source": [
    "system = FuzzySystem()\n",
    "system.add_input_variable(temp)\n",
    "system.add_input_variable(humidity)\n",
    "system.add_output_variable(motor_speed)"
   ]
  },
  {
   "cell_type": "markdown",
   "metadata": {},
   "source": [
    "The next step is to define the rules. A total of nine rules are used to describe the knowledge necessary to operate our fan controller:\n",
    "\n",
    "> IF Temperature is Cold and Humidity is Dry THEN Fan Speed is Slow\n",
    ">\n",
    "> IF Temperature is Medium and Humidity is Dry THEN Fan Speed is Slow\n",
    ">\n",
    "> IF Temperature is Cold and Humidity is Normal THEN Fan Speed is Slow\n",
    ">\n",
    "> IF Temperature is Hot and Humidity is Dry THEN Fan Speed is Moderate\n",
    ">\n",
    "> IF Temperature is Medium and Humidity is Normal THEN Fan Speed is Moderate\n",
    ">\n",
    "> IF Temperature is Cold and Humidity is Wet THEN Fan Speed is Moderate\n",
    ">\n",
    "> IF Temperature is Hot and Humidity is Normal THEN Fan Speed is Fast\n",
    ">\n",
    "> IF Temperature is Hot and Humidity is Wet THEN Fan Speed is Fast\n",
    ">\n",
    "> IF Temperature is Medium and Humidity is Wet THEN Fan Speed is Fast\n",
    "\n"
   ]
  },
  {
   "cell_type": "code",
   "execution_count": 6,
   "metadata": {
    "pycharm": {
     "name": "#%%\n"
    }
   },
   "outputs": [],
   "source": [
    "system.add_rule(antecedent_clause_names={'Temperature':'Cold','Humidity':'Dry'},\n",
    "                consequent_clause_names={'Speed':'Slow'})\n",
    "# TODO: Write the remaining rules and add to the system\n",
    "# Write your code below\n"
   ]
  },
  {
   "cell_type": "markdown",
   "metadata": {},
   "source": []
  },
  {
   "cell_type": "markdown",
   "metadata": {},
   "source": [
    "Inference a example. The output should be 37.2465"
   ]
  },
  {
   "cell_type": "code",
   "execution_count": 7,
   "metadata": {
    "pycharm": {
     "name": "#%%\n"
    }
   },
   "outputs": [
    {
     "ename": "KeyError",
     "evalue": "'Temperature'",
     "output_type": "error",
     "traceback": [
      "\u001b[0;31m---------------------------------------------------------------------------\u001b[0m",
      "\u001b[0;31mKeyError\u001b[0m                                  Traceback (most recent call last)",
      "Input \u001b[0;32mIn [7]\u001b[0m, in \u001b[0;36m<cell line: 1>\u001b[0;34m()\u001b[0m\n\u001b[0;32m----> 1\u001b[0m output \u001b[38;5;241m=\u001b[39m \u001b[43msystem\u001b[49m\u001b[38;5;241;43m.\u001b[39;49m\u001b[43mevaluate_output\u001b[49m\u001b[43m(\u001b[49m\u001b[43minput_values\u001b[49m\u001b[38;5;241;43m=\u001b[39;49m\u001b[43m{\u001b[49m\u001b[38;5;124;43m'\u001b[39;49m\u001b[38;5;124;43mTemperature\u001b[39;49m\u001b[38;5;124;43m'\u001b[39;49m\u001b[43m:\u001b[49m\u001b[38;5;241;43m18\u001b[39;49m\u001b[43m,\u001b[49m\u001b[43m \u001b[49m\u001b[38;5;124;43m'\u001b[39;49m\u001b[38;5;124;43mHumidity\u001b[39;49m\u001b[38;5;124;43m'\u001b[39;49m\u001b[43m:\u001b[49m\u001b[38;5;241;43m60\u001b[39;49m\u001b[43m}\u001b[49m\u001b[43m)\u001b[49m\n\u001b[1;32m      2\u001b[0m output\n",
      "File \u001b[0;32m~/PycharmProjects/test3/assignment-2/fuzzy_system/fuzzy_system.py:144\u001b[0m, in \u001b[0;36mFuzzySystem.evaluate_output\u001b[0;34m(self, input_values)\u001b[0m\n\u001b[1;32m    142\u001b[0m \u001b[38;5;66;03m# Fuzzify the inputs. The degree of membership will be stored in each set\u001b[39;00m\n\u001b[1;32m    143\u001b[0m \u001b[38;5;28;01mfor\u001b[39;00m input_name, input_value \u001b[38;5;129;01min\u001b[39;00m input_values\u001b[38;5;241m.\u001b[39mitems():\n\u001b[0;32m--> 144\u001b[0m     \u001b[38;5;28;43mself\u001b[39;49m\u001b[38;5;241;43m.\u001b[39;49m\u001b[43minput_variables\u001b[49m\u001b[43m[\u001b[49m\u001b[43minput_name\u001b[49m\u001b[43m]\u001b[49m\u001b[38;5;241m.\u001b[39mfuzzify(input_value)\n\u001b[1;32m    145\u001b[0m \u001b[38;5;66;03m# evaluate rules\u001b[39;00m\n\u001b[1;32m    146\u001b[0m \u001b[38;5;28;01mfor\u001b[39;00m rule \u001b[38;5;129;01min\u001b[39;00m \u001b[38;5;28mself\u001b[39m\u001b[38;5;241m.\u001b[39mrules:\n",
      "\u001b[0;31mKeyError\u001b[0m: 'Temperature'"
     ]
    }
   ],
   "source": [
    "output = system.evaluate_output(input_values={'Temperature':18, 'Humidity':60})\n",
    "output"
   ]
  },
  {
   "cell_type": "code",
   "execution_count": null,
   "metadata": {
    "pycharm": {
     "name": "#%%\n"
    }
   },
   "outputs": [],
   "source": [
    "# print system\n",
    "system.plot_system()"
   ]
  },
  {
   "cell_type": "markdown",
   "metadata": {},
   "source": []
  },
  {
   "cell_type": "code",
   "execution_count": null,
   "metadata": {},
   "outputs": [],
   "source": []
  },
  {
   "cell_type": "code",
   "execution_count": null,
   "metadata": {},
   "outputs": [],
   "source": []
  }
 ],
 "metadata": {
  "kernelspec": {
   "display_name": "Python 3 (ipykernel)",
   "language": "python",
   "name": "python3"
  },
  "language_info": {
   "codemirror_mode": {
    "name": "ipython",
    "version": 3
   },
   "file_extension": ".py",
   "mimetype": "text/x-python",
   "name": "python",
   "nbconvert_exporter": "python",
   "pygments_lexer": "ipython3",
   "version": "3.8.13"
  }
 },
 "nbformat": 4,
 "nbformat_minor": 1
}
